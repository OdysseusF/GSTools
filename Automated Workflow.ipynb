{
 "cells": [
  {
   "cell_type": "markdown",
   "id": "0587d0a4-a26b-4a11-8965-bd601c704198",
   "metadata": {},
   "source": [
    "# Automated Workflow for performing the following steps\n",
    "1. Preprocess the data and pick out the outliers\n",
    "2. Fit the data set to various cov models and krige for the best parameters\n",
    "3. Plot the train and test errors."
   ]
  },
  {
   "cell_type": "code",
   "execution_count": null,
   "id": "c9801807-769a-4601-a9ed-38d3bc791458",
   "metadata": {},
   "outputs": [],
   "source": []
  },
  {
   "cell_type": "code",
   "execution_count": null,
   "id": "c753b20a-c2e0-4a88-a473-4e4a8478a2cb",
   "metadata": {},
   "outputs": [],
   "source": []
  }
 ],
 "metadata": {
  "kernelspec": {
   "display_name": "Python 3 (ipykernel)",
   "language": "python",
   "name": "python3"
  },
  "language_info": {
   "codemirror_mode": {
    "name": "ipython",
    "version": 3
   },
   "file_extension": ".py",
   "mimetype": "text/x-python",
   "name": "python",
   "nbconvert_exporter": "python",
   "pygments_lexer": "ipython3",
   "version": "3.11.8"
  }
 },
 "nbformat": 4,
 "nbformat_minor": 5
}
