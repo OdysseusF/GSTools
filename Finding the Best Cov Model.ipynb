{
 "cells": [
  {
   "cell_type": "code",
   "execution_count": 1,
   "id": "1afe45b1-4ffb-4b43-9180-2c64dc6b5ccd",
   "metadata": {},
   "outputs": [],
   "source": [
    "import pandas as pd\n",
    "import numpy as np\n",
    "import scipy.stats as stats\n",
    "import matplotlib.pyplot as plt\n",
    "import seaborn as sns\n",
    "import gstools as gs\n",
    "from sklearn.metrics import mean_squared_error"
   ]
  },
  {
   "cell_type": "code",
   "execution_count": 20,
   "id": "eb758485-2e3b-4975-8afc-7be30008981e",
   "metadata": {},
   "outputs": [],
   "source": [
    "# from functions import load_data\n",
    "# This file stores the various custom-defined functions \n",
    "def load_data(file_name, protein):        \n",
    "    # Specify the file path\n",
    "    if file_name == \"tonsil\":\n",
    "        file_path = \"/Users/cui/Library/CloudStorage/OneDrive-YaleUniversity/0 High-Dim Spatial/Human Tonsil/tonsil_codex.csv\"\n",
    "    if file_name == \"hubmap\":\n",
    "        file_path = \"/Users/cui/Library/CloudStorage/OneDrive-YaleUniversity/0 High-Dim Spatial/hubmap/ann/B009A_22_03_03_Skywalker_reg001_compensated_ann.csv\"\n",
    "    \n",
    "    # Load the CSV file into a DataFrame\n",
    "    df = pd.read_csv(file_path)\n",
    "    df = df.head(20000)\n",
    "    if file_name == \"tonsil\":\n",
    "        df.rename(columns={'centroid_x': 'x'}, inplace=True)\n",
    "        df.rename(columns={'centroid_y': 'y'}, inplace=True)\n",
    "    \n",
    "    # shuffle the rows\n",
    "    df = df.sample(frac=1).reset_index(drop=True)\n",
    "    \n",
    "    # we normalise x and y so that the grid is approximately 1 by 1\n",
    "    df['x'] = df['x']/df['x'].max()\n",
    "    df['y'] = df['y']/df['y'].max()\n",
    "\n",
    "    # we normalise the protein value and do a standard log transform for potential long-tail effects.\n",
    "    df[protein] = df[protein] / df[protein].median()\n",
    "    df[protein] = np.log(1+df[protein])\n",
    "    #Pick only the large-value outliers, but we don't want to work with those that only give the value = 1.0\n",
    "\n",
    "    top_20000_rows = df.nlargest(20000, protein)\n",
    "    top_20000_rows = top_20000_rows.sample(frac=1).reset_index(drop=True)\n",
    "    df_train = top_20000_rows.head(2000)\n",
    "    df_test = top_20000_rows.tail(2000)\n",
    "    \n",
    "    x_train = df_train['x']\n",
    "    y_train = df_train['y']\n",
    "    val_train = df_train[protein]\n",
    "    \n",
    "    x_test = df_test['x']\n",
    "    y_test = df_test['y']\n",
    "    val_test = df_test[protein]\n",
    "\n",
    "    return (x_train, y_train, val_train, x_test, y_test, val_test)"
   ]
  },
  {
   "cell_type": "code",
   "execution_count": 21,
   "id": "9abcdc02-8bea-4753-afc2-d89f73600d2a",
   "metadata": {},
   "outputs": [],
   "source": [
    "protein = \"CD3\"\n",
    "x_train = 0 \n",
    "x_train, y_train, val_train, x_test, y_test, val_test = load_data(\"tonsil\", protein)"
   ]
  },
  {
   "cell_type": "code",
   "execution_count": 22,
   "id": "cc4f9d87-47c8-4886-b8dc-9aecc6663f90",
   "metadata": {},
   "outputs": [
    {
     "data": {
      "text/plain": [
       "0       0.856185\n",
       "1       0.555260\n",
       "2       0.967147\n",
       "3       0.628710\n",
       "4       0.895694\n",
       "          ...   \n",
       "1995    0.599877\n",
       "1996    0.656922\n",
       "1997    0.815844\n",
       "1998    0.500018\n",
       "1999    0.396025\n",
       "Name: x, Length: 2000, dtype: float64"
      ]
     },
     "execution_count": 22,
     "metadata": {},
     "output_type": "execute_result"
    }
   ],
   "source": [
    "x_train"
   ]
  },
  {
   "cell_type": "code",
   "execution_count": 17,
   "id": "17d17d0a-5b5f-4c00-a3c4-3d0e2b11f8bd",
   "metadata": {},
   "outputs": [],
   "source": []
  },
  {
   "cell_type": "code",
   "execution_count": 18,
   "id": "1b6c3658-e8b0-485e-b047-623cf764c8fb",
   "metadata": {},
   "outputs": [
    {
     "data": {
      "text/plain": [
       "pandas.core.series.Series"
      ]
     },
     "execution_count": 18,
     "metadata": {},
     "output_type": "execute_result"
    }
   ],
   "source": [
    "type(x_train)"
   ]
  }
 ],
 "metadata": {
  "kernelspec": {
   "display_name": "Python 3 (ipykernel)",
   "language": "python",
   "name": "python3"
  },
  "language_info": {
   "codemirror_mode": {
    "name": "ipython",
    "version": 3
   },
   "file_extension": ".py",
   "mimetype": "text/x-python",
   "name": "python",
   "nbconvert_exporter": "python",
   "pygments_lexer": "ipython3",
   "version": "3.11.8"
  }
 },
 "nbformat": 4,
 "nbformat_minor": 5
}
